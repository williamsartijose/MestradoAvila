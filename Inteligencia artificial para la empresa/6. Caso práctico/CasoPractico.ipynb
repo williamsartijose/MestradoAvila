{
 "cells": [
  {
   "cell_type": "code",
   "execution_count": 1,
   "id": "3ad81f64",
   "metadata": {},
   "outputs": [
    {
     "name": "stdout",
     "output_type": "stream",
     "text": [
      "Jogo 100: Q-Values = [0.47658712 0.35218324 0.03025533 0.38890348 0.39376933], Cliques Totais = [21.  0.  0.  0.  1.]\n",
      "Jogo 200: Q-Values = [0.52349995 0.39082219 0.45942469 0.19589871 0.37785638], Cliques Totais = [31.  4.  2.  0.  1.]\n",
      "Jogo 300: Q-Values = [0.5454311  0.34846148 0.30910511 0.16900086 0.47424043], Cliques Totais = [44.  6.  2.  0.  2.]\n",
      "Jogo 400: Q-Values = [0.48758327 0.46986267 0.47140292 0.40955248 0.44549026], Cliques Totais = [65.  8.  3.  2.  2.]\n",
      "Jogo 500: Q-Values = [0.49539489 0.43765201 0.45770967 0.40955248 0.43876107], Cliques Totais = [77.  8.  4.  2.  6.]\n",
      "Jogo 600: Q-Values = [0.52502871 0.47978355 0.50218674 0.38858991 0.43876107], Cliques Totais = [88.  9.  5.  3.  6.]\n",
      "Jogo 700: Q-Values = [0.48091351 0.40869626 0.43122597 0.35635359 0.41683607], Cliques Totais = [102.  14.   6.   4.   7.]\n",
      "Jogo 800: Q-Values = [0.5112819  0.36656419 0.44709722 0.35111174 0.46196492], Cliques Totais = [120.  14.   7.   4.   7.]\n",
      "Jogo 900: Q-Values = [0.50541098 0.37300407 0.46796129 0.41338282 0.40503044], Cliques Totais = [137.  14.   7.   5.   7.]\n",
      "Jogo 1000: Q-Values = [0.4884937  0.39629559 0.46796129 0.36322707 0.41880028], Cliques Totais = [152.  14.   7.   5.   7.]\n",
      "\n",
      "Valor de epsilon: 0.1\n",
      "Imagem com mais cliques: Imagem 1\n",
      "Quantidade de cliques: 152.0\n",
      "\n",
      "Com taxa de exploração de 100%:\n",
      "Imagem com mais cliques: Imagem 1\n",
      "Quantidade de cliques: 211.0\n"
     ]
    }
   ],
   "source": [
    "import numpy as np\n",
    "\n",
    "# Função que simula a exibição de um banner e retorno de cliques\n",
    "def exibir_banner(imagem):\n",
    "    # Lógica simulada para calcular o valor de Q\n",
    "    q_value = np.random.rand()  # Valor de Q simulado\n",
    "    \n",
    "    # Lógica simulada para decidir se o usuário clica ou não\n",
    "    click = np.random.choice([0, 1], p=[0.8, 0.2])  # Simula 20% de chance de clique\n",
    "    \n",
    "    return q_value, click\n",
    "\n",
    "# Função para simular o bandit de vários braços\n",
    "def multi_armed_bandit(num_games, epsilon, verbose=False):\n",
    "    q_values = np.zeros(5)  # Valor de Q para cada imagem\n",
    "    total_clicks = np.zeros(5)  # Total de cliques para cada imagem\n",
    "    \n",
    "    for game in range(1, num_games + 1):\n",
    "        # Escolher ação com base na política de exploração/exploração\n",
    "        if np.random.rand() < epsilon:\n",
    "            action = np.random.choice(5)  # Exploração aleatória\n",
    "        else:\n",
    "            action = np.argmax(q_values)  # Exploração com base no valor de Q\n",
    "        \n",
    "        # Simular exibição do banner e retorno de cliques\n",
    "        q_value, click = exibir_banner(action)\n",
    "        \n",
    "        # Atualizar valor de Q para a ação escolhida\n",
    "        q_values[action] = (q_values[action] * total_clicks[action] + q_value) / (total_clicks[action] + 1)\n",
    "        total_clicks[action] += click\n",
    "        \n",
    "        # Exibir resultados periodicamente\n",
    "        if verbose and game % 100 == 0:\n",
    "            print(f\"Jogo {game}: Q-Values = {q_values}, Cliques Totais = {total_clicks}\")\n",
    "\n",
    "    return q_values, total_clicks\n",
    "\n",
    "# Modificar o valor de epsilon para responder às perguntas\n",
    "epsilon = 0.1  # Altere conforme necessário\n",
    "\n",
    "# Executar o bandit de vários braços com o valor de epsilon escolhido\n",
    "q_values, total_clicks = multi_armed_bandit(num_games=1000, epsilon=epsilon, verbose=True)\n",
    "\n",
    "# Responder às perguntas\n",
    "indice_imagem_max_clicks = np.argmax(total_clicks)\n",
    "max_clicks = total_clicks[indice_imagem_max_clicks]\n",
    "\n",
    "print(f\"\\nValor de epsilon: {epsilon}\")\n",
    "print(f\"Imagem com mais cliques: Imagem {indice_imagem_max_clicks + 1}\")\n",
    "print(f\"Quantidade de cliques: {max_clicks}\")\n",
    "\n",
    "# Configurar uma taxa de exploração de 100%\n",
    "q_values_exploitative, total_clicks_exploitative = multi_armed_bandit(num_games=1000, epsilon=0, verbose=False)\n",
    "indice_imagem_max_clicks_exploitative = np.argmax(total_clicks_exploitative)\n",
    "max_clicks_exploitative = total_clicks_exploitative[indice_imagem_max_clicks_exploitative]\n",
    "\n",
    "print(\"\\nCom taxa de exploração de 100%:\")\n",
    "print(f\"Imagem com mais cliques: Imagem {indice_imagem_max_clicks_exploitative + 1}\")\n",
    "print(f\"Quantidade de cliques: {max_clicks_exploitative}\")\n"
   ]
  },
  {
   "cell_type": "code",
   "execution_count": null,
   "id": "379280f7",
   "metadata": {},
   "outputs": [],
   "source": []
  }
 ],
 "metadata": {
  "kernelspec": {
   "display_name": "Python 3 (ipykernel)",
   "language": "python",
   "name": "python3"
  },
  "language_info": {
   "codemirror_mode": {
    "name": "ipython",
    "version": 3
   },
   "file_extension": ".py",
   "mimetype": "text/x-python",
   "name": "python",
   "nbconvert_exporter": "python",
   "pygments_lexer": "ipython3",
   "version": "3.11.3"
  }
 },
 "nbformat": 4,
 "nbformat_minor": 5
}
